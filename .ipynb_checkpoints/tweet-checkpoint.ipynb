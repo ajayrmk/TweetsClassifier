{
 "cells": [
  {
   "cell_type": "code",
   "execution_count": null,
   "id": "a2b9809a",
   "metadata": {},
   "outputs": [],
   "source": [
    "# Importing libraries\n",
    "import pandas as pd"
   ]
  },
  {
   "cell_type": "code",
   "execution_count": null,
   "id": "e740be6e",
   "metadata": {},
   "outputs": [],
   "source": [
    "# Reading Data\n",
    "slurs = pd.read_csv('slurs.csv', header=None)\n",
    "tweets = pd.read_csv('tweets.csv')"
   ]
  },
  {
   "cell_type": "code",
   "execution_count": null,
   "id": "a72dd1c8",
   "metadata": {},
   "outputs": [],
   "source": [
    "slurs"
   ]
  },
  {
   "cell_type": "code",
   "execution_count": null,
   "id": "95f00919",
   "metadata": {},
   "outputs": [],
   "source": [
    "tweets[\"profane word count\"] = \"\"\n",
    "tweets[\"degree of profanity\"] = \"\"\n",
    "tweets = tweets[[\"tweet\", \"profane word count\", \"degree of profanity\"]]\n",
    "tweets"
   ]
  },
  {
   "cell_type": "code",
   "execution_count": null,
   "id": "342a9e75",
   "metadata": {},
   "outputs": [],
   "source": [
    "# Detection of Profane words(racial slurs)\n",
    "\n",
    "for i in range(tweets.shape[0]):\n",
    "    tweet = tweets.at[i, 'tweet']\n",
    "        profaneWordCount = (sum(tweet.lower().count(i) for i in slurs))\n",
    "        rawScore = (profaneWordCount / len(tweet))\n",
    "        tweets.at[i, 'profane word count'] = profaneWordCount\n",
    "        \n",
    "        \n",
    "        # Determining the Degree of Profanity of each tweet\n",
    "        '''Degree was determined on the basis of ratio of Profane Words \n",
    "        to the Total Number of Words in the tweet.'''\n",
    "        \n",
    "        if rawScore == 0.0:\n",
    "            tweets.at[i, 'degree of profanity'] = \"NOT PROFANE\"\n",
    "        elif rawScore > 0.0 and rawScore < 0.025:\n",
    "            tweets.at[i, 'degree of profanity'] = \"PROFANE\"\n",
    "        elif rawScore > 0.025 and rawScore < 0.05:\n",
    "            tweets.at[i, 'degree of profanity'] = \"VERY PROFANE\"\n",
    "        else:\n",
    "            tweets.at[i, 'degree of profanity'] = \"EXTREMELY PROFANE\""
   ]
  },
  {
   "cell_type": "code",
   "execution_count": null,
   "id": "b0f1a8ee",
   "metadata": {},
   "outputs": [],
   "source": [
    "tweets.head()"
   ]
  },
  {
   "cell_type": "code",
   "execution_count": null,
   "id": "ced9ef08",
   "metadata": {},
   "outputs": [],
   "source": []
  }
 ],
 "metadata": {
  "kernelspec": {
   "display_name": "Python 3 (ipykernel)",
   "language": "python",
   "name": "python3"
  },
  "language_info": {
   "codemirror_mode": {
    "name": "ipython",
    "version": 3
   },
   "file_extension": ".py",
   "mimetype": "text/x-python",
   "name": "python",
   "nbconvert_exporter": "python",
   "pygments_lexer": "ipython3",
   "version": "3.9.9"
  }
 },
 "nbformat": 4,
 "nbformat_minor": 5
}
