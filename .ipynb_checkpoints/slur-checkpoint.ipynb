{
 "cells": [
  {
   "cell_type": "code",
   "execution_count": 2,
   "id": "bcc4ea73",
   "metadata": {},
   "outputs": [
    {
     "ename": "SyntaxError",
     "evalue": "invalid syntax (659970499.py, line 15)",
     "output_type": "error",
     "traceback": [
      "\u001b[0;36m  File \u001b[0;32m\"/tmp/ipykernel_2277/659970499.py\"\u001b[0;36m, line \u001b[0;32m15\u001b[0m\n\u001b[0;31m    Now, our function is ready so we have to specify the url of the website from which we need to parse tables.\u001b[0m\n\u001b[0m                                                                            ^\u001b[0m\n\u001b[0;31mSyntaxError\u001b[0m\u001b[0;31m:\u001b[0m invalid syntax\n"
     ]
    }
   ],
   "source": [
    "# Library for opening url and creating\n",
    "# requests\n",
    "import urllib.request\n",
    "\n",
    "# pretty-print python data structures\n",
    "from pprint import pprint\n",
    "\n",
    "# for parsing all the tables present\n",
    "# on the website\n",
    "from html_table_parser.parser import HTMLTableParser\n",
    "\n",
    "# for converting the parsed data in a\n",
    "# pandas dataframe\n",
    "import pandas as pd\n",
    "\n",
    "\n",
    "# Opens a website and read its\n",
    "# binary contents (HTTP Response Body)\n",
    "def url_get_contents(url):\n",
    "\n",
    "\t# Opens a website and read its\n",
    "\t# binary contents (HTTP Response Body)\n",
    "\n",
    "\t#making request to the website\n",
    "\treq = urllib.request.Request(url=url)\n",
    "\tf = urllib.request.urlopen(req)\n",
    "\n",
    "\t#reading contents of the website\n",
    "\treturn f.read()\n",
    "\n",
    "# defining the html contents of a URL.\n",
    "xhtml = url_get_contents('www.rsdb.org/full').decode('utf-8')\n",
    "\n",
    "# Defining the HTMLTableParser object\n",
    "p = HTMLTableParser()\n",
    "\n",
    "# feeding the html contents in the\n",
    "# HTMLTableParser object\n",
    "p.feed(xhtml)\n",
    "\n",
    "# Now finally obtaining the data of\n",
    "# the table required\n",
    "pprint(p.tables[1])\n",
    "\n",
    "# converting the parsed data to\n",
    "# dataframe\n",
    "print(\"\\n\\nPANDAS DATAFRAME\\n\")\n",
    "print(pd.DataFrame(p.tables[1]))\n"
   ]
  },
  {
   "cell_type": "code",
   "execution_count": null,
   "id": "481231c9",
   "metadata": {},
   "outputs": [],
   "source": []
  }
 ],
 "metadata": {
  "kernelspec": {
   "display_name": "Python 3 (ipykernel)",
   "language": "python",
   "name": "python3"
  },
  "language_info": {
   "codemirror_mode": {
    "name": "ipython",
    "version": 3
   },
   "file_extension": ".py",
   "mimetype": "text/x-python",
   "name": "python",
   "nbconvert_exporter": "python",
   "pygments_lexer": "ipython3",
   "version": "3.9.9"
  }
 },
 "nbformat": 4,
 "nbformat_minor": 5
}
